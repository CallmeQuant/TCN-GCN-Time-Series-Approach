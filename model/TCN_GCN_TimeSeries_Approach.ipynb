{
  "nbformat": 4,
  "nbformat_minor": 0,
  "metadata": {
    "colab": {
      "name": "TCN_TimeSeries Approach.ipynb",
      "provenance": [],
      "collapsed_sections": [],
      "toc_visible": true
    },
    "kernelspec": {
      "name": "python3",
      "display_name": "Python 3"
    }
  },
  "cells": [
    {
      "cell_type": "markdown",
      "metadata": {
        "id": "rNmNWqlKa_8E"
      },
      "source": [
        "## Load Library"
      ]
    },
    {
      "cell_type": "code",
      "metadata": {
        "id": "EEq6d7AUa9Wp"
      },
      "source": [
        "!pip install keras-tcn\n",
        "import matplotlib.pyplot as plt\n",
        "import numpy as np\n",
        "import pandas as pd\n",
        "import copy\n",
        "import itertools\n",
        "from datetime import timedelta, date, datetime\n",
        "# Tensorflow TCN\n",
        "from tensorflow.keras import Input, Model\n",
        "from tensorflow.keras.layers import Dense\n",
        "from tqdm.notebook import tqdm\n",
        "from tcn import TCN\n",
        "\n",
        "from scipy import sparse as sp\n",
        "from scipy.stats import skew, kurtosis\n",
        "from sklearn.preprocessing import StandardScaler, MaxAbsScaler, MinMaxScaler\n",
        "import tensorflow as tf\n",
        "from tensorflow.keras import backend as K\n",
        "from tensorflow.python.ops.linalg.sparse import sparse as tfsp\n",
        "from tensorflow.keras.optimizers import Adam"
      ],
      "execution_count": null,
      "outputs": []
    },
    {
      "cell_type": "code",
      "metadata": {
        "colab": {
          "base_uri": "https://localhost:8080/"
        },
        "id": "FHMrcXd4wvQi",
        "outputId": "30e5c1e6-3a48-4437-a2d5-affbf05c269a"
      },
      "source": [
        "from google.colab import drive\n",
        "drive.mount('/content/drive')"
      ],
      "execution_count": 2,
      "outputs": [
        {
          "output_type": "stream",
          "name": "stdout",
          "text": [
            "Mounted at /content/drive\n"
          ]
        }
      ]
    },
    {
      "cell_type": "code",
      "metadata": {
        "id": "fXHoawAk1l4O"
      },
      "source": [
        "# No item in below list in the dataset, hence, filter 16 items wiht most sales\n",
        "\n",
        "items =[610407025, 615101406, 622400601, 621937401, 622438401] \n",
        "'''\n",
        "[613250027,610407025,621937401,622400601,620477001,622573101,622010901,\n",
        "        622080801,620007804,612370067,622491101,622080701,622438401,615101492,\n",
        "        620477801,615101406]\n",
        "        ''' \n",
        "def item_filter(df, codes=items):\n",
        "    '''\n",
        "        Filter the computer codes, return the list codes\n",
        "    '''\n",
        "    df = copy.deepcopy(df)\n",
        "\n",
        "    filter = df['computer_code'].str.contains('U', na = False)\n",
        "    df = df[~filter]\n",
        "    df['computer_code'] = df['computer_code'].astype('int')\n",
        "\n",
        "    df = df[df.computer_code.isin(items)]\n",
        "\n",
        "    return df\n",
        "\n",
        "\n",
        "# Unit translating\n",
        "def store_unit_convert(df):\n",
        "    # translate store unit into English\n",
        "    df = df.replace({\n",
        "        '瓶': 'bottle',\n",
        "        'ｍＬ': 'ml',\n",
        "        '錠': 'tablet',\n",
        "        'ｇ': 'g',\n",
        "        'カプセル': 'capsule',\n",
        "        '枚': 'sheet',\n",
        "        'キット': 'kits',\n",
        "        'シート': 'sheets',\n",
        "        '本': 'bottle',\n",
        "        '包': 'package',\n",
        "        '個': 'pieces',\n",
        "        '筒': 'cartridge',\n",
        "        'ﾌﾞﾘｽﾀｰ': 'blister',\n",
        "        '缶': 'can',\n",
        "        '管': 'tube'\n",
        "    })\n",
        "\n",
        "    return df\n",
        "\n",
        "# Setting up for displaying data\n",
        "pd.set_option('precision', 2) # 2 decimal places\n",
        "pd.set_option('display.max_rows', 20)\n",
        "pd.set_option('display.max_columns', 30)\n",
        "pd.set_option('display.width', 100) # wide windows"
      ],
      "execution_count": 3,
      "outputs": []
    },
    {
      "cell_type": "markdown",
      "metadata": {
        "id": "UMr5G8xhcCxj"
      },
      "source": [
        "## Importing data and simple wrangling"
      ]
    },
    {
      "cell_type": "code",
      "metadata": {
        "id": "KsJE5e5t1pt1"
      },
      "source": [
        "# Importing sales quantity data\n",
        "sales = pd.read_csv('drive/My Drive/data/sale_update.csv')\n",
        "sales.quantity = sales.quantity.astype(np.float32)\n",
        "sales['date'] = pd.to_datetime(sales['date'], format=\"%d/%m/%Y\")\n",
        "\n",
        "'''\n",
        "# Discarding all data before 2020-01-01\n",
        "sales = sales[sales['date'] >= pd.to_datetime('2020-01-01' , format='%Y-%m-%d')]\n",
        "'''\n",
        "\n",
        "# Filtering items \n",
        "sales = item_filter(sales)"
      ],
      "execution_count": null,
      "outputs": []
    },
    {
      "cell_type": "code",
      "metadata": {
        "id": "kJmbRdavcFJb",
        "colab": {
          "base_uri": "https://localhost:8080/",
          "height": 219
        },
        "outputId": "2a81c2eb-c9fc-4eea-b8e6-b69f880820b2"
      },
      "source": [
        "print(sales.shape)\n",
        "sales.head()"
      ],
      "execution_count": null,
      "outputs": [
        {
          "output_type": "stream",
          "name": "stdout",
          "text": [
            "(17701, 3)\n"
          ]
        },
        {
          "output_type": "execute_result",
          "data": {
            "text/html": [
              "<div>\n",
              "<style scoped>\n",
              "    .dataframe tbody tr th:only-of-type {\n",
              "        vertical-align: middle;\n",
              "    }\n",
              "\n",
              "    .dataframe tbody tr th {\n",
              "        vertical-align: top;\n",
              "    }\n",
              "\n",
              "    .dataframe thead th {\n",
              "        text-align: right;\n",
              "    }\n",
              "</style>\n",
              "<table border=\"1\" class=\"dataframe\">\n",
              "  <thead>\n",
              "    <tr style=\"text-align: right;\">\n",
              "      <th></th>\n",
              "      <th>date</th>\n",
              "      <th>computer_code</th>\n",
              "      <th>quantity</th>\n",
              "    </tr>\n",
              "  </thead>\n",
              "  <tbody>\n",
              "    <tr>\n",
              "      <th>32</th>\n",
              "      <td>2015-06-27</td>\n",
              "      <td>620007804</td>\n",
              "      <td>56.0</td>\n",
              "    </tr>\n",
              "    <tr>\n",
              "      <th>36</th>\n",
              "      <td>2015-06-30</td>\n",
              "      <td>621937401</td>\n",
              "      <td>30.0</td>\n",
              "    </tr>\n",
              "    <tr>\n",
              "      <th>47</th>\n",
              "      <td>2015-06-30</td>\n",
              "      <td>620007804</td>\n",
              "      <td>70.0</td>\n",
              "    </tr>\n",
              "    <tr>\n",
              "      <th>52</th>\n",
              "      <td>2015-01-07</td>\n",
              "      <td>622080801</td>\n",
              "      <td>60.0</td>\n",
              "    </tr>\n",
              "    <tr>\n",
              "      <th>66</th>\n",
              "      <td>2015-01-07</td>\n",
              "      <td>622080801</td>\n",
              "      <td>30.0</td>\n",
              "    </tr>\n",
              "  </tbody>\n",
              "</table>\n",
              "</div>"
            ],
            "text/plain": [
              "         date  computer_code  quantity\n",
              "32 2015-06-27      620007804      56.0\n",
              "36 2015-06-30      621937401      30.0\n",
              "47 2015-06-30      620007804      70.0\n",
              "52 2015-01-07      622080801      60.0\n",
              "66 2015-01-07      622080801      30.0"
            ]
          },
          "metadata": {},
          "execution_count": 11
        }
      ]
    },
    {
      "cell_type": "code",
      "metadata": {
        "id": "lH2ZNQ8L2gpw"
      },
      "source": [
        "# create sales dataframe\n",
        "sales_df = sales.groupby(['date','computer_code']).agg(['sum']).reindex()\n",
        "sales_df = sales.pivot_table(index = 'date',\n",
        "                                      values = 'quantity',\n",
        "                                      columns = 'computer_code')\n",
        "sales_df = sales_df.sort_index()\n",
        "'''                               \n",
        "sales_df['total'] = sales_df.sum(axis = 1)\n",
        "'''\n",
        "sales_df = sales_df.asfreq('D')\n",
        "sales_df = sales_df.replace(np.nan,0)\n",
        "sales_df.columns = sales_df.columns.astype(str)"
      ],
      "execution_count": null,
      "outputs": []
    },
    {
      "cell_type": "markdown",
      "metadata": {
        "id": "OxtoyYB_cPJR"
      },
      "source": [
        "### Lookback 14 days windows"
      ]
    },
    {
      "cell_type": "code",
      "metadata": {
        "id": "I8TY8aTQcIR4"
      },
      "source": [
        "lookback_window = 14"
      ],
      "execution_count": null,
      "outputs": []
    },
    {
      "cell_type": "markdown",
      "metadata": {
        "id": "3dqsLFT4dk7s"
      },
      "source": [
        "### Model Defining and Training"
      ]
    },
    {
      "cell_type": "code",
      "metadata": {
        "id": "y783wDIxdeke",
        "colab": {
          "base_uri": "https://localhost:8080/"
        },
        "outputId": "dc5e6172-fd54-4405-e076-fe10a9df25dc"
      },
      "source": [
        "i = Input(shape=(lookback_window, 1))\n",
        "m = TCN()(i)\n",
        "m = Dense(1, activation='linear')(m)\n",
        "\n",
        "model = Model(inputs=[i], outputs=[m])\n",
        "model.summary()\n",
        "\n",
        "model.compile('adam','mae')"
      ],
      "execution_count": null,
      "outputs": [
        {
          "output_type": "stream",
          "name": "stdout",
          "text": [
            "Model: \"model_2\"\n",
            "_________________________________________________________________\n",
            "Layer (type)                 Output Shape              Param #   \n",
            "=================================================================\n",
            "input_3 (InputLayer)         [(None, 12, 1)]           0         \n",
            "_________________________________________________________________\n",
            "tcn_2 (TCN)                  (None, 64)                136256    \n",
            "_________________________________________________________________\n",
            "dense_2 (Dense)              (None, 1)                 65        \n",
            "=================================================================\n",
            "Total params: 136,321\n",
            "Trainable params: 136,321\n",
            "Non-trainable params: 0\n",
            "_________________________________________________________________\n"
          ]
        }
      ]
    },
    {
      "cell_type": "markdown",
      "metadata": {
        "id": "zDy7WxEtcV96"
      },
      "source": [
        "### Converting Data into Numpy Array, creating list and training "
      ]
    },
    {
      "cell_type": "code",
      "metadata": {
        "id": "GOV5KuwJcR3Z"
      },
      "source": [
        "\n",
        "temp_df = sales_df.filter(regex=str(613250027))\n",
        "temp = temp_df.values\n",
        "x = []\n",
        "y = []\n",
        "for i in tqdm(range(lookback_window, len(temp))):\n",
        "    x.append(temp[i - lookback_window:i])\n",
        "    y.append(temp[i])\n",
        "\n",
        "x = np.array(x)\n",
        "y = np.array(y)\n",
        "print(x.shape)\n",
        "print(y.shape)"
      ],
      "execution_count": null,
      "outputs": []
    },
    {
      "cell_type": "code",
      "metadata": {
        "id": "Fsv10DsLdtKy"
      },
      "source": [
        "# Train model \n",
        "print('Train...')\n",
        "model.fit(x, y, epochs=100)\n",
        "predict = model.predict(x)"
      ],
      "execution_count": null,
      "outputs": []
    },
    {
      "cell_type": "markdown",
      "metadata": {
        "id": "i-7DoomPf5ak"
      },
      "source": [
        "### Plot the Result"
      ]
    },
    {
      "cell_type": "code",
      "metadata": {
        "id": "x9EpeosteOkK",
        "colab": {
          "base_uri": "https://localhost:8080/",
          "height": 485
        },
        "outputId": "5883fddb-f2fe-4ac4-f262-755c29417f36"
      },
      "source": [
        "plt.style.use(\"fivethirtyeight\")\n",
        "plt.figure(figsize = (15,7))\n",
        "plt.plot(predict[-60:])\n",
        "plt.plot(y[-60:])\n",
        "plt.title('Daily Drug Sales for last 60 days (Capsule unit)')\n",
        "plt.legend(['predicted', 'actual'])\n",
        "plt.xlabel(\"Date\")\n",
        "plt.ylabel(\"Sales in Capsule\")\n",
        "plt.show()"
      ],
      "execution_count": null,
      "outputs": [
        {
          "output_type": "display_data",
          "data": {
            "image/png": "[encoded data removed]",
            "text/plain": [
              "<Figure size 1080x504 with 1 Axes>"
            ]
          },
          "metadata": {}
        }
      ]
    },
    {
      "cell_type": "markdown",
      "metadata": {
        "id": "58yNk5LemWqV"
      },
      "source": [
        "### Accuracy measurement"
      ]
    },
    {
      "cell_type": "code",
      "metadata": {
        "id": "NZ_65web8eU9"
      },
      "source": [
        "def mean_absolute_percentage_error(actual, pred):\n",
        "  mask = actual != 0\n",
        "  return np.fabs((actual-pred)/actual)[mask].mean()"
      ],
      "execution_count": 18,
      "outputs": []
    },
    {
      "cell_type": "code",
      "metadata": {
        "colab": {
          "base_uri": "https://localhost:8080/"
        },
        "id": "iB10pkNB8vu1",
        "outputId": "ab6897c6-1962-49bd-8117-18690007d99c"
      },
      "source": [
        "mean_absolute_percentage_error(y[-60:], predict[-60:])"
      ],
      "execution_count": null,
      "outputs": [
        {
          "output_type": "stream",
          "name": "stderr",
          "text": [
            "/usr/local/lib/python3.7/dist-packages/ipykernel_launcher.py:19: RuntimeWarning: divide by zero encountered in true_divide\n"
          ]
        },
        {
          "output_type": "execute_result",
          "data": {
            "text/plain": [
              "0.99872607"
            ]
          },
          "metadata": {},
          "execution_count": 58
        }
      ]
    },
    {
      "cell_type": "markdown",
      "metadata": {
        "id": "qe9EKyfgmK-w"
      },
      "source": [
        "## Another approach using  GCN"
      ]
    },
    {
      "cell_type": "markdown",
      "metadata": {
        "id": "w_JGtgVAbB0o"
      },
      "source": [
        "### Defining some functions for GCN\n"
      ]
    },
    {
      "cell_type": "code",
      "metadata": {
        "id": "CcjauQKnbOgo"
      },
      "source": [
        "SINGLE  = 1   # Single         (rank(a)=2, rank(b)=2)\n",
        "MIXED   = 2   # Mixed          (rank(a)=2, rank(b)=3)\n",
        "iMIXED  = 3   # Inverted mixed (rank(a)=3, rank(b)=2)\n",
        "BATCH   = 4   # Batch          (rank(a)=3, rank(b)=3)\n",
        "UNKNOWN = -1  # Unknown\n",
        "\n",
        "\n",
        "def transpose(a, perm=None, name=None):\n",
        "    \"\"\"\n",
        "    Transposes a according to perm, dealing automatically with sparsity.\n",
        "    :param a: Tensor or SparseTensor with rank k.\n",
        "    :param perm: permutation indices of size k.\n",
        "    :param name: name for the operation.\n",
        "    :return: Tensor or SparseTensor with rank k.\n",
        "    \"\"\"\n",
        "    if K.is_sparse(a):\n",
        "        transpose_op = tf.sparse.transpose\n",
        "    else:\n",
        "        transpose_op = tf.transpose\n",
        "\n",
        "    if perm is None:\n",
        "        perm = (1, 0)  # Make explicit so that shape will always be preserved\n",
        "    return transpose_op(a, perm=perm, name=name)\n",
        "\n",
        "\n",
        "def reshape(a, shape=None, name=None):\n",
        "    \"\"\"\n",
        "    Reshapes a according to shape, dealing automatically with sparsity.\n",
        "    :param a: Tensor or SparseTensor.\n",
        "    :param shape: new shape.\n",
        "    :param name: name for the operation.\n",
        "    :return: Tensor or SparseTensor.\n",
        "    \"\"\"\n",
        "    if K.is_sparse(a):\n",
        "        reshape_op = tf.sparse.reshape\n",
        "    else:\n",
        "        reshape_op = tf.reshape\n",
        "\n",
        "    return reshape_op(a, shape=shape, name=name)\n",
        "\n",
        "\n",
        "def autodetect_mode(a, b):\n",
        "    \"\"\"\n",
        "    Return a code identifying the mode of operation (single, mixed, inverted mixed and\n",
        "    batch), given a and b. See `ops.modes` for meaning of codes.\n",
        "    :param a: Tensor or SparseTensor.\n",
        "    :param b: Tensor or SparseTensor.\n",
        "    :return: mode of operation as an integer code.\n",
        "    \"\"\"\n",
        "    a_dim = K.ndim(a)\n",
        "    b_dim = K.ndim(b)\n",
        "    if b_dim == 2:\n",
        "        if a_dim == 2:\n",
        "            return SINGLE\n",
        "        elif a_dim == 3:\n",
        "            return iMIXED\n",
        "    elif b_dim == 3:\n",
        "        if a_dim == 2:\n",
        "            return MIXED\n",
        "        elif a_dim == 3:\n",
        "            return BATCH\n",
        "    return UNKNOWN\n",
        "\n",
        "\n",
        "def filter_dot(fltr, features):\n",
        "    \"\"\"\n",
        "    Wrapper for matmul_A_B, specifically used to compute the matrix multiplication\n",
        "    between a graph filter and node features.\n",
        "    :param fltr:\n",
        "    :param features: the node features (N x F in single mode, batch x N x F in\n",
        "    mixed and batch mode).\n",
        "    :return: the filtered features.\n",
        "    \"\"\"\n",
        "    mode = autodetect_mode(fltr, features)\n",
        "    if mode == SINGLE or mode == BATCH:\n",
        "        return dotted(fltr, features)\n",
        "    else:\n",
        "        # Mixed mode\n",
        "        return mixed_mode_dot(fltr, features)\n",
        "\n",
        "\n",
        "def dotted(a, b, transpose_a=False, transpose_b=False):\n",
        "    \"\"\"\n",
        "    Dot product between a and b along innermost dimensions, for a and b with\n",
        "    same rank. Supports both dense and sparse multiplication (including\n",
        "    sparse-sparse).\n",
        "    :param a: Tensor or SparseTensor with rank 2 or 3.\n",
        "    :param b: Tensor or SparseTensor with same rank as a.\n",
        "    :param transpose_a: bool, transpose innermost two dimensions of a.\n",
        "    :param transpose_b: bool, transpose innermost two dimensions of b.\n",
        "    :return: Tensor or SparseTensor with rank 2 or 3.\n",
        "    \"\"\"\n",
        "    a_is_sparse_tensor = isinstance(a, tf.SparseTensor)\n",
        "    b_is_sparse_tensor = isinstance(b, tf.SparseTensor)\n",
        "    if a_is_sparse_tensor:\n",
        "        a = tfsp.CSRSparseMatrix(a)\n",
        "    if b_is_sparse_tensor:\n",
        "        b = tfsp.CSRSparseMatrix(b)\n",
        "    out = tf.linalg.matmul(a, b, transpose_a=transpose_a, transpose_b=transpose_b)\n",
        "    if hasattr(out, 'to_sparse_tensor'):\n",
        "        return out.to_sparse_tensor()\n",
        "\n",
        "    return out\n",
        "\n",
        "\n",
        "def mixed_mode_dot(a, b):\n",
        "    \"\"\"\n",
        "    Computes the equivalent of `tf.einsum('ij,bjk->bik', a, b)`, but\n",
        "    works for both dense and sparse input filters.\n",
        "    :param a: rank 2 Tensor or SparseTensor.\n",
        "    :param b: rank 3 Tensor or SparseTensor.\n",
        "    :return: rank 3 Tensor or SparseTensor.\n",
        "    \"\"\"\n",
        "    s_0_, s_1_, s_2_ = K.int_shape(b)\n",
        "    B_T = transpose(b, (1, 2, 0))\n",
        "    B_T = reshape(B_T, (s_1_, -1))\n",
        "    output = dotted(a, B_T)\n",
        "    output = reshape(output, (s_1_, s_2_, -1))\n",
        "    output = transpose(output, (2, 0, 1))\n",
        "\n",
        "    return output\n",
        "\n",
        "\n",
        "def degree_power(A, k):\n",
        "    r\"\"\"\n",
        "    Computes \\(\\D^{k}\\) from the given adjacency matrix. Useful for computing\n",
        "    normalised Laplacian.\n",
        "    :param A: rank 2 array or sparse matrix.\n",
        "    :param k: exponent to which elevate the degree matrix.\n",
        "    :return: if A is a dense array, a dense array; if A is sparse, a sparse\n",
        "    matrix in DIA format.\n",
        "    \"\"\"\n",
        "    degrees = np.power(np.array(A.sum(1)), k).flatten()\n",
        "    degrees[np.isinf(degrees)] = 0.\n",
        "    if sp.issparse(A):\n",
        "        D = sp.diags(degrees)\n",
        "    else:\n",
        "        D = np.diag(degrees)\n",
        "    return D\n",
        "\n",
        "\n",
        "def normalized_adjacency(A, symmetric=True):\n",
        "    r\"\"\"\n",
        "    Normalizes the given adjacency matrix using the degree matrix as either\n",
        "    \\(\\D^{-1}\\A\\) or \\(\\D^{-1/2}\\A\\D^{-1/2}\\) (symmetric normalization).\n",
        "    :param A: rank 2 array or sparse matrix;\n",
        "    :param symmetric: boolean, compute symmetric normalization;\n",
        "    :return: the normalized adjacency matrix.\n",
        "    \"\"\"\n",
        "    if symmetric:\n",
        "        normalized_D = degree_power(A, -0.5)\n",
        "        output = normalized_D.dot(A).dot(normalized_D)\n",
        "    else:\n",
        "        normalized_D = degree_power(A, -1.)\n",
        "        output = normalized_D.dot(A)\n",
        "    return output\n",
        "\n",
        "\n",
        "def localpooling_filter(A, symmetric=True):\n",
        "    r\"\"\"\n",
        "    Computes the graph filter described in\n",
        "    [Kipf & Welling (2017)](https://arxiv.org/abs/1609.02907).\n",
        "    :param A: array or sparse matrix with rank 2 or 3;\n",
        "    :param symmetric: boolean, whether to normalize the matrix as\n",
        "    \\(\\D^{-\\frac{1}{2}}\\A\\D^{-\\frac{1}{2}}\\) or as \\(\\D^{-1}\\A\\);\n",
        "    :return: array or sparse matrix with rank 2 or 3, same as A;\n",
        "    \"\"\"\n",
        "    fltr = A.copy()\n",
        "    if sp.issparse(A):\n",
        "        I = sp.eye(A.shape[-1], dtype=A.dtype)\n",
        "    else:\n",
        "        I = np.eye(A.shape[-1], dtype=A.dtype)\n",
        "    if A.ndim == 3:\n",
        "        for i in range(A.shape[0]):\n",
        "            A_tilde = A[i] + I\n",
        "            fltr[i] = normalized_adjacency(A_tilde, symmetric=symmetric)\n",
        "    else:\n",
        "        A_tilde = A + I\n",
        "        fltr = normalized_adjacency(A_tilde, symmetric=symmetric)\n",
        "\n",
        "    if sp.issparse(fltr):\n",
        "        fltr.sort_indices()\n",
        "    return fltr"
      ],
      "execution_count": 4,
      "outputs": []
    },
    {
      "cell_type": "markdown",
      "metadata": {
        "id": "cdvIrJR-bVaL"
      },
      "source": [
        "###  Defining class GCN"
      ]
    },
    {
      "cell_type": "code",
      "metadata": {
        "id": "A7MyJqbcbJDm"
      },
      "source": [
        "from tensorflow.keras import activations, initializers, regularizers, constraints\n",
        "from tensorflow.keras import backend as K\n",
        "from tensorflow.keras.layers import Layer\n",
        "\n",
        "class GraphConv(Layer):\n",
        "    r\"\"\"\n",
        "    A graph convolutional layer (GCN) as presented by\n",
        "    [Kipf & Welling (2016)](https://arxiv.org/abs/1609.02907).\n",
        "    **Mode**: single, mixed, batch.\n",
        "    This layer computes:\n",
        "    $$\n",
        "        \\Z = \\hat \\D^{-1/2} \\hat \\A \\hat \\D^{-1/2} \\X \\W + \\b\n",
        "    $$\n",
        "    where \\( \\hat \\A = \\A + \\I \\) is the adjacency matrix with added self-loops\n",
        "    and \\(\\hat\\D\\) is its degree matrix.\n",
        "    **Input**\n",
        "    - Node features of shape `([batch], N, F)`;\n",
        "    - Modified Laplacian of shape `([batch], N, N)`; can be computed with\n",
        "    `spektral.utils.convolution.localpooling_filter`.\n",
        "    **Output**\n",
        "    - Node features with the same shape as the input, but with the last\n",
        "    dimension changed to `channels`.\n",
        "    **Arguments**\n",
        "    - `channels`: number of output channels;\n",
        "    - `activation`: activation function to use;\n",
        "    - `use_bias`: whether to add a bias to the linear transformation;\n",
        "    - `kernel_initializer`: initializer for the kernel matrix;\n",
        "    - `bias_initializer`: initializer for the bias vector;\n",
        "    - `kernel_regularizer`: regularization applied to the kernel matrix;\n",
        "    - `bias_regularizer`: regularization applied to the bias vector;\n",
        "    - `activity_regularizer`: regularization applied to the output;\n",
        "    - `kernel_constraint`: constraint applied to the kernel matrix;\n",
        "    - `bias_constraint`: constraint applied to the bias vector.\n",
        "    \"\"\"\n",
        "\n",
        "    def __init__(self,\n",
        "                 channels,\n",
        "                 activation=None,\n",
        "                 use_bias=True,\n",
        "                 kernel_initializer='glorot_uniform',\n",
        "                 bias_initializer='zeros',\n",
        "                 kernel_regularizer=None,\n",
        "                 bias_regularizer=None,\n",
        "                 activity_regularizer=None,\n",
        "                 kernel_constraint=None,\n",
        "                 bias_constraint=None,\n",
        "                 **kwargs):\n",
        "\n",
        "        super().__init__(activity_regularizer=activity_regularizer, **kwargs)\n",
        "        self.channels = channels\n",
        "        self.activation = activations.get(activation)\n",
        "        self.use_bias = use_bias\n",
        "        self.kernel_initializer = initializers.get(kernel_initializer)\n",
        "        self.bias_initializer = initializers.get(bias_initializer)\n",
        "        self.kernel_regularizer = regularizers.get(kernel_regularizer)\n",
        "        self.bias_regularizer = regularizers.get(bias_regularizer)\n",
        "        self.kernel_constraint = constraints.get(kernel_constraint)\n",
        "        self.bias_constraint = constraints.get(bias_constraint)\n",
        "        \n",
        "\n",
        "    def build(self, input_shape):\n",
        "        assert len(input_shape) >= 2\n",
        "        input_dim = input_shape[0][-1]\n",
        "        self.kernel = self.add_weight(shape=(input_dim, self.channels),\n",
        "                                      initializer=self.kernel_initializer,\n",
        "                                      name='kernel',\n",
        "                                      regularizer=self.kernel_regularizer,\n",
        "                                      constraint=self.kernel_constraint)\n",
        "        if self.use_bias:\n",
        "            self.bias = self.add_weight(shape=(self.channels,),\n",
        "                                        initializer=self.bias_initializer,\n",
        "                                        name='bias',\n",
        "                                        regularizer=self.bias_regularizer,\n",
        "                                        constraint=self.bias_constraint)\n",
        "        else:\n",
        "            self.bias = None\n",
        "        self.built = True\n",
        "\n",
        "    def call(self, inputs, mask=None):\n",
        "        features = inputs[0]\n",
        "        fltr = inputs[1]\n",
        "\n",
        "        # Convolution\n",
        "        output = dotted(features, self.kernel)\n",
        "        output = filter_dot(fltr, output)\n",
        "\n",
        "        if self.use_bias:\n",
        "            output = K.bias_add(output, self.bias)\n",
        "\n",
        "        if mask is not None:\n",
        "            output *= mask[0]\n",
        "\n",
        "        output = self.activation(output)\n",
        "\n",
        "        return output\n",
        "\n",
        "    def compute_output_shape(self, input_shape):\n",
        "        features_shape = input_shape[0]\n",
        "        output_shape = features_shape[:-1] + (self.channels,)\n",
        "        return output_shape\n",
        "\n",
        "    def get_config(self):\n",
        "        config = {\n",
        "            'channels': self.channels,\n",
        "            'activation': activations.serialize(self.activation),\n",
        "            'use_bias': self.use_bias,\n",
        "            'kernel_initializer': initializers.serialize(self.kernel_initializer),\n",
        "            'bias_initializer': initializers.serialize(self.bias_initializer),\n",
        "            'kernel_regularizer': regularizers.serialize(self.kernel_regularizer),\n",
        "            'bias_regularizer': regularizers.serialize(self.bias_regularizer),\n",
        "            'kernel_constraint': constraints.serialize(self.kernel_constraint),\n",
        "            'bias_constraint': constraints.serialize(self.bias_constraint)\n",
        "        }\n",
        "        base_config = super().get_config()\n",
        "        return dict(list(base_config.items()) + list(config.items()))\n",
        "\n",
        "    @staticmethod\n",
        "    def preprocess(A):\n",
        "        return localpooling_filter(A)"
      ],
      "execution_count": 6,
      "outputs": []
    },
    {
      "cell_type": "markdown",
      "metadata": {
        "id": "_wBaDxTAeoTY"
      },
      "source": [
        "### Applying the model"
      ]
    },
    {
      "cell_type": "code",
      "metadata": {
        "id": "r3CIPpYPdOXY"
      },
      "source": [
        "# Importing sales quantity data\n",
        "sale = pd.read_csv('drive/My Drive/data/sale_eval.csv')\n",
        "sale.quantity = sale.quantity.astype(np.float32)\n",
        "sale['date'] = pd.to_datetime(sale['date'], format=\"%d/%m/%Y\")\n",
        "sale['unit'] = store_unit_convert(sale['unit'])\n",
        "\n",
        "# Discarding all data before 2018-01-01\n",
        "sale = sale[sale['date'] >= pd.to_datetime('2018-01-01' , format='%Y-%m-%d')]\n",
        "\n",
        "'''\n",
        "sale = sale.groupby(['date','computer_code']).agg(['sum']).reindex()\n",
        "sale = sale.pivot_table(index = 'date',\n",
        "                                      values = 'quantity',\n",
        "                                      columns = 'computer_code')\n",
        "sale = sale.sort_index()                               \n",
        "sale = sale.replace(np.nan,0)\n",
        "sale.columns = sale.columns.droplevel(0)\n",
        "sale = sale.asfreq('D')\n",
        "sale = sale.fillna(0)\n",
        "'''\n",
        "\n",
        "# Filtering items \n",
        "sale = item_filter(sale)"
      ],
      "execution_count": 5,
      "outputs": []
    },
    {
      "cell_type": "markdown",
      "metadata": {
        "id": "g4x0kiWuqvWe"
      },
      "source": [
        "#### Formatting Data from Long to Wide"
      ]
    },
    {
      "cell_type": "code",
      "metadata": {
        "id": "5wLMC6B9fD8D"
      },
      "source": [
        "unstaked_sale = sale.copy()\n",
        "unstaked_sale['id'] = sale['computer_code'].astype(str)+'_'+sale['unit'].astype(str)\n",
        "unstaked_sale.set_index(['id','date'], inplace=True)\n",
        "unstaked_sale.drop(['computer_code','unit'], axis=1, inplace=True)\n",
        "unstaked_sale = unstaked_sale.reset_index().pivot_table(values = 'quantity',\n",
        "                                                       index = 'date',\n",
        "                                                       columns = 'id')\n",
        "unstaked_sale = unstaked_sale.asfreq('D')\n",
        "unstaked_sale = unstaked_sale.replace(np.nan, 0)\n",
        "# Taking the transpose the get the date as attributes\n",
        "unstaked_sale = unstaked_sale.T"
      ],
      "execution_count": 7,
      "outputs": []
    },
    {
      "cell_type": "markdown",
      "metadata": {
        "id": "1gbzujOAq2W1"
      },
      "source": [
        "##### Train Data (Correlation, Features)"
      ]
    },
    {
      "cell_type": "code",
      "metadata": {
        "id": "o_neiYsRKbk3"
      },
      "source": [
        "# Batch size\n",
        "sequence_length = 14\n",
        "\n",
        "\n",
        "def get_timespan(df, today, days):    \n",
        "    df = df[pd.date_range(today - timedelta(days=days), \n",
        "            periods=days, freq='D')] # day - n_days <= dates < day    \n",
        "    return df\n",
        "\n",
        "\n",
        "def create_features(df, today, seq_len):\n",
        "    \n",
        "    all_sequence = get_timespan(df, today, seq_len).values\n",
        "  \n",
        "    item_level = all_sequence.reshape((-1, 5, seq_len))\n",
        "    \n",
        "    item_corr = np.stack([np.corrcoef(i) for i in item_level], axis=0)\n",
        "    \n",
        "    item_features = np.stack([\n",
        "              item_level.mean(axis=2),\n",
        "              item_level[:,:,int(sequence_length/2):].mean(axis=2),\n",
        "              item_level.std(axis=2),\n",
        "              item_level[:,:,int(sequence_length/2):].std(axis=2),\n",
        "              skew(item_level, axis=2),\n",
        "              kurtosis(item_level, axis=2),\n",
        "              np.apply_along_axis(lambda x: np.polyfit(np.arange(0, sequence_length), x, 1)[0], 2, item_level)\n",
        "            ], axis=1)\n",
        "    \n",
        "    item_level = np.transpose(item_level, (0,2,1))\n",
        "    item_features = np.transpose(item_features, (0,2,1))\n",
        "    \n",
        "    return item_level, item_corr, item_features\n",
        "\n",
        "# Formatting of the y: [[day1 N items], \n",
        "#                       [day2 N items]]\n",
        "def create_label(df, today):\n",
        "    \n",
        "    y = df[today].values\n",
        "    \n",
        "    return y.reshape((-1, 5))\n",
        "\n",
        "# Plot sample sequence for 5 items in 30 days\n",
        "\n",
        "sequence = get_timespan(unstaked_sale, date(2021,11,5), 30)\n",
        "sequence.head(10).T.plot(figsize=(14,5))\n",
        "plt.ylabel('sales')\n",
        "plt.legend(loc='center left', bbox_to_anchor=(1.0, 0.5))\n",
        "\n",
        "\n",
        "# Train, valid, test separation date\n",
        "\n",
        "train_date = date(2018, 1, 2)\n",
        "valid_date = date(2020, 1, 2)\n",
        "test_date = date(2021, 1, 2)\n",
        "\n",
        "\n",
        "# Train Feature\n",
        "\n",
        "X_seq, X_cor, X_feat, y = [], [], [], []\n",
        "\n",
        "for d in tqdm(pd.date_range(train_date+timedelta(days=sequence_length), valid_date)):\n",
        "    seq_, corr_, feat_ = create_features(unstaked_sale, d, sequence_length)\n",
        "    y_ = create_label(unstaked_sale, d)\n",
        "    X_seq.append(seq_), X_cor.append(corr_), X_feat.append(feat_), y.append(y_)\n",
        "    \n",
        "X_train_seq = np.concatenate(X_seq, axis=0).astype('float16')\n",
        "X_train_cor = np.concatenate(X_cor, axis=0).astype('float16')\n",
        "X_train_feat = np.concatenate(X_feat, axis=0).astype('float16')\n",
        "y_train = np.concatenate(y, axis=0).astype('float16')\n",
        "\n",
        "print(X_train_seq.shape, X_train_cor.shape, X_train_feat.shape, y_train.shape)"
      ],
      "execution_count": null,
      "outputs": []
    },
    {
      "cell_type": "code",
      "metadata": {
        "id": "vXjWK-ewT4Ou"
      },
      "source": [
        "x = get_timespan(unstaked_sale, date(2018,1,16), 14).values\n",
        "  \n",
        "y = x.reshape((-1, 5, 14))"
      ],
      "execution_count": 31,
      "outputs": []
    },
    {
      "cell_type": "code",
      "metadata": {
        "colab": {
          "base_uri": "https://localhost:8080/"
        },
        "id": "SGPi95nAUqQ8",
        "outputId": "dc681468-1a25-4649-d2af-2d0922ad27a0"
      },
      "source": [
        ""
      ],
      "execution_count": 36,
      "outputs": [
        {
          "output_type": "execute_result",
          "data": {
            "text/plain": [
              "50.91142857142857"
            ]
          },
          "metadata": {},
          "execution_count": 36
        }
      ]
    },
    {
      "cell_type": "code",
      "metadata": {
        "colab": {
          "base_uri": "https://localhost:8080/"
        },
        "id": "wPXPH2S4UOFZ",
        "outputId": "55aa9515-f5ef-453a-ebdc-bb4b5ca9e5d5"
      },
      "source": [
        "y.mean(axis = 2)"
      ],
      "execution_count": 32,
      "outputs": [
        {
          "output_type": "execute_result",
          "data": {
            "text/plain": [
              "array([[ 0., 51., 35.,  0., 52.]], dtype=float32)"
            ]
          },
          "metadata": {},
          "execution_count": 32
        }
      ]
    },
    {
      "cell_type": "code",
      "metadata": {
        "colab": {
          "base_uri": "https://localhost:8080/",
          "height": 298
        },
        "id": "HXXZurgMUSmx",
        "outputId": "d80e8143-13b6-4204-cd6a-168a7ae576ff"
      },
      "source": [
        "unstaked_sale.head(10)"
      ],
      "execution_count": 29,
      "outputs": [
        {
          "output_type": "execute_result",
          "data": {
            "text/html": [
              "<div>\n",
              "<style scoped>\n",
              "    .dataframe tbody tr th:only-of-type {\n",
              "        vertical-align: middle;\n",
              "    }\n",
              "\n",
              "    .dataframe tbody tr th {\n",
              "        vertical-align: top;\n",
              "    }\n",
              "\n",
              "    .dataframe thead th {\n",
              "        text-align: right;\n",
              "    }\n",
              "</style>\n",
              "<table border=\"1\" class=\"dataframe\">\n",
              "  <thead>\n",
              "    <tr style=\"text-align: right;\">\n",
              "      <th>date</th>\n",
              "      <th>2018-01-02</th>\n",
              "      <th>2018-01-03</th>\n",
              "      <th>2018-01-04</th>\n",
              "      <th>2018-01-05</th>\n",
              "      <th>2018-01-06</th>\n",
              "      <th>2018-01-07</th>\n",
              "      <th>2018-01-08</th>\n",
              "      <th>2018-01-09</th>\n",
              "      <th>2018-01-10</th>\n",
              "      <th>2018-01-11</th>\n",
              "      <th>2018-01-12</th>\n",
              "      <th>2018-01-13</th>\n",
              "      <th>2018-01-14</th>\n",
              "      <th>2018-01-15</th>\n",
              "      <th>2018-01-16</th>\n",
              "      <th>...</th>\n",
              "      <th>2021-11-20</th>\n",
              "      <th>2021-11-21</th>\n",
              "      <th>2021-11-22</th>\n",
              "      <th>2021-11-23</th>\n",
              "      <th>2021-11-24</th>\n",
              "      <th>2021-11-25</th>\n",
              "      <th>2021-11-26</th>\n",
              "      <th>2021-11-27</th>\n",
              "      <th>2021-11-28</th>\n",
              "      <th>2021-11-29</th>\n",
              "      <th>2021-11-30</th>\n",
              "      <th>2021-12-01</th>\n",
              "      <th>2021-12-02</th>\n",
              "      <th>2021-12-03</th>\n",
              "      <th>2021-12-04</th>\n",
              "    </tr>\n",
              "    <tr>\n",
              "      <th>id</th>\n",
              "      <th></th>\n",
              "      <th></th>\n",
              "      <th></th>\n",
              "      <th></th>\n",
              "      <th></th>\n",
              "      <th></th>\n",
              "      <th></th>\n",
              "      <th></th>\n",
              "      <th></th>\n",
              "      <th></th>\n",
              "      <th></th>\n",
              "      <th></th>\n",
              "      <th></th>\n",
              "      <th></th>\n",
              "      <th></th>\n",
              "      <th></th>\n",
              "      <th></th>\n",
              "      <th></th>\n",
              "      <th></th>\n",
              "      <th></th>\n",
              "      <th></th>\n",
              "      <th></th>\n",
              "      <th></th>\n",
              "      <th></th>\n",
              "      <th></th>\n",
              "      <th></th>\n",
              "      <th></th>\n",
              "      <th></th>\n",
              "      <th></th>\n",
              "      <th></th>\n",
              "      <th></th>\n",
              "    </tr>\n",
              "  </thead>\n",
              "  <tbody>\n",
              "    <tr>\n",
              "      <th>610407025_ml</th>\n",
              "      <td>0.0</td>\n",
              "      <td>0.0</td>\n",
              "      <td>0.0</td>\n",
              "      <td>0.00</td>\n",
              "      <td>0.0</td>\n",
              "      <td>0.0</td>\n",
              "      <td>0.0</td>\n",
              "      <td>0.00</td>\n",
              "      <td>0.00</td>\n",
              "      <td>0.00</td>\n",
              "      <td>0.0</td>\n",
              "      <td>0.00</td>\n",
              "      <td>0.0</td>\n",
              "      <td>0.0</td>\n",
              "      <td>0.00</td>\n",
              "      <td>...</td>\n",
              "      <td>0.0</td>\n",
              "      <td>0.0</td>\n",
              "      <td>0.0</td>\n",
              "      <td>0.0</td>\n",
              "      <td>0.0</td>\n",
              "      <td>0.0</td>\n",
              "      <td>0.0</td>\n",
              "      <td>0.0</td>\n",
              "      <td>0.0</td>\n",
              "      <td>0.0</td>\n",
              "      <td>0.0</td>\n",
              "      <td>0.0</td>\n",
              "      <td>0.00</td>\n",
              "      <td>0.0</td>\n",
              "      <td>0.0</td>\n",
              "    </tr>\n",
              "    <tr>\n",
              "      <th>615101406_g</th>\n",
              "      <td>42.5</td>\n",
              "      <td>52.5</td>\n",
              "      <td>0.0</td>\n",
              "      <td>95.62</td>\n",
              "      <td>0.0</td>\n",
              "      <td>0.0</td>\n",
              "      <td>0.0</td>\n",
              "      <td>131.25</td>\n",
              "      <td>131.25</td>\n",
              "      <td>47.14</td>\n",
              "      <td>90.0</td>\n",
              "      <td>77.50</td>\n",
              "      <td>0.0</td>\n",
              "      <td>45.0</td>\n",
              "      <td>37.50</td>\n",
              "      <td>...</td>\n",
              "      <td>0.0</td>\n",
              "      <td>0.0</td>\n",
              "      <td>0.0</td>\n",
              "      <td>0.0</td>\n",
              "      <td>0.0</td>\n",
              "      <td>0.0</td>\n",
              "      <td>0.0</td>\n",
              "      <td>0.0</td>\n",
              "      <td>0.0</td>\n",
              "      <td>0.0</td>\n",
              "      <td>0.0</td>\n",
              "      <td>0.0</td>\n",
              "      <td>75.00</td>\n",
              "      <td>0.0</td>\n",
              "      <td>450.0</td>\n",
              "    </tr>\n",
              "    <tr>\n",
              "      <th>621937401_tablet</th>\n",
              "      <td>30.0</td>\n",
              "      <td>75.0</td>\n",
              "      <td>0.0</td>\n",
              "      <td>38.57</td>\n",
              "      <td>52.5</td>\n",
              "      <td>0.0</td>\n",
              "      <td>40.5</td>\n",
              "      <td>40.00</td>\n",
              "      <td>64.00</td>\n",
              "      <td>40.00</td>\n",
              "      <td>50.0</td>\n",
              "      <td>34.83</td>\n",
              "      <td>0.0</td>\n",
              "      <td>30.0</td>\n",
              "      <td>41.25</td>\n",
              "      <td>...</td>\n",
              "      <td>0.0</td>\n",
              "      <td>0.0</td>\n",
              "      <td>0.0</td>\n",
              "      <td>0.0</td>\n",
              "      <td>0.0</td>\n",
              "      <td>0.0</td>\n",
              "      <td>0.0</td>\n",
              "      <td>0.0</td>\n",
              "      <td>0.0</td>\n",
              "      <td>0.0</td>\n",
              "      <td>0.0</td>\n",
              "      <td>48.0</td>\n",
              "      <td>47.78</td>\n",
              "      <td>60.0</td>\n",
              "      <td>0.0</td>\n",
              "    </tr>\n",
              "    <tr>\n",
              "      <th>622400601_tablet</th>\n",
              "      <td>0.0</td>\n",
              "      <td>0.0</td>\n",
              "      <td>0.0</td>\n",
              "      <td>0.00</td>\n",
              "      <td>0.0</td>\n",
              "      <td>0.0</td>\n",
              "      <td>0.0</td>\n",
              "      <td>0.00</td>\n",
              "      <td>0.00</td>\n",
              "      <td>0.00</td>\n",
              "      <td>0.0</td>\n",
              "      <td>0.00</td>\n",
              "      <td>0.0</td>\n",
              "      <td>0.0</td>\n",
              "      <td>0.00</td>\n",
              "      <td>...</td>\n",
              "      <td>0.0</td>\n",
              "      <td>0.0</td>\n",
              "      <td>0.0</td>\n",
              "      <td>0.0</td>\n",
              "      <td>0.0</td>\n",
              "      <td>0.0</td>\n",
              "      <td>0.0</td>\n",
              "      <td>0.0</td>\n",
              "      <td>0.0</td>\n",
              "      <td>0.0</td>\n",
              "      <td>0.0</td>\n",
              "      <td>136.0</td>\n",
              "      <td>0.00</td>\n",
              "      <td>151.5</td>\n",
              "      <td>0.0</td>\n",
              "    </tr>\n",
              "    <tr>\n",
              "      <th>622438401_tablet</th>\n",
              "      <td>0.0</td>\n",
              "      <td>125.0</td>\n",
              "      <td>0.0</td>\n",
              "      <td>107.50</td>\n",
              "      <td>105.0</td>\n",
              "      <td>0.0</td>\n",
              "      <td>0.0</td>\n",
              "      <td>0.00</td>\n",
              "      <td>90.00</td>\n",
              "      <td>126.00</td>\n",
              "      <td>90.0</td>\n",
              "      <td>0.00</td>\n",
              "      <td>0.0</td>\n",
              "      <td>90.0</td>\n",
              "      <td>90.00</td>\n",
              "      <td>...</td>\n",
              "      <td>0.0</td>\n",
              "      <td>0.0</td>\n",
              "      <td>0.0</td>\n",
              "      <td>0.0</td>\n",
              "      <td>0.0</td>\n",
              "      <td>0.0</td>\n",
              "      <td>0.0</td>\n",
              "      <td>0.0</td>\n",
              "      <td>0.0</td>\n",
              "      <td>0.0</td>\n",
              "      <td>0.0</td>\n",
              "      <td>90.0</td>\n",
              "      <td>0.00</td>\n",
              "      <td>0.0</td>\n",
              "      <td>0.0</td>\n",
              "    </tr>\n",
              "  </tbody>\n",
              "</table>\n",
              "<p>5 rows × 1433 columns</p>\n",
              "</div>"
            ],
            "text/plain": [
              "date              2018-01-02  2018-01-03  2018-01-04  2018-01-05  2018-01-06  2018-01-07  \\\n",
              "id                                                                                         \n",
              "610407025_ml             0.0         0.0         0.0        0.00         0.0         0.0   \n",
              "615101406_g             42.5        52.5         0.0       95.62         0.0         0.0   \n",
              "621937401_tablet        30.0        75.0         0.0       38.57        52.5         0.0   \n",
              "622400601_tablet         0.0         0.0         0.0        0.00         0.0         0.0   \n",
              "622438401_tablet         0.0       125.0         0.0      107.50       105.0         0.0   \n",
              "\n",
              "date              2018-01-08  2018-01-09  2018-01-10  2018-01-11  2018-01-12  2018-01-13  \\\n",
              "id                                                                                         \n",
              "610407025_ml             0.0        0.00        0.00        0.00         0.0        0.00   \n",
              "615101406_g              0.0      131.25      131.25       47.14        90.0       77.50   \n",
              "621937401_tablet        40.5       40.00       64.00       40.00        50.0       34.83   \n",
              "622400601_tablet         0.0        0.00        0.00        0.00         0.0        0.00   \n",
              "622438401_tablet         0.0        0.00       90.00      126.00        90.0        0.00   \n",
              "\n",
              "date              2018-01-14  2018-01-15  2018-01-16  ...  2021-11-20  2021-11-21  2021-11-22  \\\n",
              "id                                                    ...                                       \n",
              "610407025_ml             0.0         0.0        0.00  ...         0.0         0.0         0.0   \n",
              "615101406_g              0.0        45.0       37.50  ...         0.0         0.0         0.0   \n",
              "621937401_tablet         0.0        30.0       41.25  ...         0.0         0.0         0.0   \n",
              "622400601_tablet         0.0         0.0        0.00  ...         0.0         0.0         0.0   \n",
              "622438401_tablet         0.0        90.0       90.00  ...         0.0         0.0         0.0   \n",
              "\n",
              "date              2021-11-23  2021-11-24  2021-11-25  2021-11-26  2021-11-27  2021-11-28  \\\n",
              "id                                                                                         \n",
              "610407025_ml             0.0         0.0         0.0         0.0         0.0         0.0   \n",
              "615101406_g              0.0         0.0         0.0         0.0         0.0         0.0   \n",
              "621937401_tablet         0.0         0.0         0.0         0.0         0.0         0.0   \n",
              "622400601_tablet         0.0         0.0         0.0         0.0         0.0         0.0   \n",
              "622438401_tablet         0.0         0.0         0.0         0.0         0.0         0.0   \n",
              "\n",
              "date              2021-11-29  2021-11-30  2021-12-01  2021-12-02  2021-12-03  2021-12-04  \n",
              "id                                                                                        \n",
              "610407025_ml             0.0         0.0         0.0        0.00         0.0         0.0  \n",
              "615101406_g              0.0         0.0         0.0       75.00         0.0       450.0  \n",
              "621937401_tablet         0.0         0.0        48.0       47.78        60.0         0.0  \n",
              "622400601_tablet         0.0         0.0       136.0        0.00       151.5         0.0  \n",
              "622438401_tablet         0.0         0.0        90.0        0.00         0.0         0.0  \n",
              "\n",
              "[5 rows x 1433 columns]"
            ]
          },
          "metadata": {},
          "execution_count": 29
        }
      ]
    },
    {
      "cell_type": "markdown",
      "metadata": {
        "id": "d5j0g5D_rCUt"
      },
      "source": [
        "#### Validation and Test data (Correlation, Features)"
      ]
    },
    {
      "cell_type": "code",
      "metadata": {
        "id": "9GlkQdFlqKwN"
      },
      "source": [
        "# Valid Feature\n",
        "\n",
        "X_seq, X_cor, X_feat, y = [], [], [], []\n",
        "\n",
        "for d in tqdm(pd.date_range(valid_date+timedelta(days=sequence_length), test_date)):\n",
        "    seq_, corr_, feat_ = create_features(unstaked_sale, d, sequence_length)\n",
        "    y_ = create_label(unstaked_sale, d)\n",
        "    X_seq.append(seq_), X_cor.append(corr_), X_feat.append(feat_), y.append(y_)\n",
        "    \n",
        "X_valid_seq = np.concatenate(X_seq, axis=0).astype('float16')\n",
        "X_valid_cor = np.concatenate(X_cor, axis=0).astype('float16')\n",
        "X_valid_feat = np.concatenate(X_feat, axis=0).astype('float16')\n",
        "y_valid = np.concatenate(y, axis=0).astype('float16')\n",
        "\n",
        "print(X_valid_seq.shape, X_valid_cor.shape, X_valid_feat.shape, y_valid.shape)\n",
        "\n",
        "\n",
        "\n",
        "# Test Feature\n",
        "\n",
        "X_seq, X_cor, X_feat, y = [], [], [], []\n",
        "\n",
        "for d in tqdm(pd.date_range(test_date+timedelta(days=sequence_length), date(2021,12,4))):\n",
        "    seq_, corr_, feat_ = create_features(unstaked_sale, d, sequence_length)\n",
        "    y_ = create_label(unstaked_sale, d)\n",
        "    X_seq.append(seq_), X_cor.append(corr_), X_feat.append(feat_), y.append(y_)\n",
        "    \n",
        "X_test_seq = np.concatenate(X_seq, axis=0).astype('float16')\n",
        "X_test_cor = np.concatenate(X_cor, axis=0).astype('float16')\n",
        "X_test_feat = np.concatenate(X_feat, axis=0).astype('float16')\n",
        "y_test = np.concatenate(y, axis=0).astype('float16')\n",
        "\n",
        "print(X_test_seq.shape, X_test_cor.shape, X_test_feat.shape, y_test.shape)\n"
      ],
      "execution_count": null,
      "outputs": []
    },
    {
      "cell_type": "code",
      "metadata": {
        "id": "3Oe_q9jIqihC",
        "colab": {
          "base_uri": "https://localhost:8080/"
        },
        "outputId": "377c79f2-cc6a-4386-e4d9-8f18a9ec11d1"
      },
      "source": [
        "# scale sequence \n",
        "# Maximum Absolute Scale for sparse sale data\n",
        "# Standard Scale for feature data\n",
        "\n",
        "scaler_seq = MaxAbsScaler()\n",
        "scaler_feat = StandardScaler()\n",
        "\n",
        "X_train_seq = scaler_seq.fit_transform(X_train_seq.reshape(-1,1)).reshape(X_train_seq.shape)\n",
        "X_valid_seq = scaler_seq.transform(X_valid_seq.reshape(-1,1)).reshape(X_valid_seq.shape)\n",
        "X_test_seq = scaler_seq.transform(X_test_seq.reshape(-1,1)).reshape(X_test_seq.shape)\n",
        "\n",
        "y_train = scaler_seq.transform(y_train)\n",
        "y_valid = scaler_seq.transform(y_valid)\n",
        "y_test = scaler_seq.transform(y_test)\n",
        "\n",
        "X_train_feat = scaler_feat.fit_transform(X_train_feat.reshape(-1,1)).reshape(X_train_feat.shape)\n",
        "X_valid_feat = scaler_feat.transform(X_valid_feat.reshape(-1,1)).reshape(X_valid_feat.shape)\n",
        "X_test_feat = scaler_feat.transform(X_test_feat.reshape(-1,1)).reshape(X_test_feat.shape)\n",
        "\n",
        "\n",
        "print(X_test_seq.shape, X_test_cor.shape, X_test_feat.shape, y_test.shape)"
      ],
      "execution_count": 11,
      "outputs": [
        {
          "output_type": "stream",
          "name": "stdout",
          "text": [
            "(323, 14, 5) (323, 5, 5) (323, 5, 7) (323, 5)\n"
          ]
        }
      ]
    },
    {
      "cell_type": "code",
      "metadata": {
        "id": "pmlFLacDql8F"
      },
      "source": [
        "# Retrieving Laplacian Normalized matrix from correlation matrix\n",
        "\n",
        "X_train_lap = localpooling_filter(1 - np.abs(X_train_cor))\n",
        "X_valid_lap = localpooling_filter(1 - np.abs(X_valid_cor))\n",
        "X_test_lap = localpooling_filter(1 - np.abs(X_test_cor))"
      ],
      "execution_count": 12,
      "outputs": []
    },
    {
      "cell_type": "markdown",
      "metadata": {
        "id": "kH6SSviiu9nR"
      },
      "source": [
        "#### Train Model and Visualize MAPE\n"
      ]
    },
    {
      "cell_type": "code",
      "metadata": {
        "id": "d5H8kaBvsahs"
      },
      "source": [
        "import os\n",
        "import random \n",
        "import tensorflow as tf\n",
        "from tensorflow.keras.layers import *\n",
        "from tensorflow.keras.models import *\n",
        "from tensorflow.keras.optimizers import *\n",
        "from tensorflow.keras.callbacks import *\n",
        "from tensorflow.keras import backend as K\n",
        "def set_seed(seed):\n",
        "    \n",
        "    tf.random.set_seed(seed)\n",
        "    os.environ['PYTHONHASHSEED'] = str(seed)\n",
        "    np.random.seed(seed)\n",
        "    random.seed(seed)\n",
        "\n",
        "# Defining model with Convolution layer for graph learning and LSTM layer for\n",
        "def get_model():\n",
        "    \n",
        "    set_seed(33)\n",
        "\n",
        "    opt = Adam(learning_rate = 0.001)\n",
        "\n",
        "    inp_seq = Input((sequence_length,5))\n",
        "    inp_lap = Input((5, 5))\n",
        "    inp_feat = Input((5, X_train_feat.shape[-1]))\n",
        "    '''\n",
        "    inp_lap_feat = [inp_feat, inp_lap]\n",
        "    '''\n",
        "    x = GraphConv(32, activation='relu')([inp_feat, inp_lap])\n",
        "    x = GraphConv(16, activation='relu')([x, inp_lap])\n",
        "    x = Flatten()(x)\n",
        "\n",
        "    xx = LSTM(128, activation='relu', return_sequences=True)(inp_seq)\n",
        "    xx = LSTM(32, activation='relu')(xx)\n",
        "\n",
        "    x = Concatenate()([x,xx])\n",
        "    x = BatchNormalization()(x)\n",
        "    x = Dropout(0.5)(x)\n",
        "    x = Dense(128, activation='relu')(x)\n",
        "    x = Dense(32, activation='relu')(x)\n",
        "    x = Dropout(0.3)(x)\n",
        "    out = Dense(1)(x)\n",
        "\n",
        "    model = Model(inputs = [inp_seq, inp_lap, inp_feat], outputs =  out)\n",
        "    model.compile(optimizer=opt, loss='mse', \n",
        "                  metrics=[tf.keras.metrics.MeanAbsolutePercentageError()])\n",
        "\n",
        "    return model"
      ],
      "execution_count": 13,
      "outputs": []
    },
    {
      "cell_type": "code",
      "metadata": {
        "id": "arIVNY1NOlND"
      },
      "source": [
        "# Define array storing prediction values\n",
        "\n",
        "pred_valid_all = np.zeros(y_valid.shape)\n",
        "pred_test_all = np.zeros(y_test.shape)"
      ],
      "execution_count": 15,
      "outputs": []
    },
    {
      "cell_type": "code",
      "metadata": {
        "colab": {
          "base_uri": "https://localhost:8080/",
          "height": 1000
        },
        "id": "VB6aCL4Bn645",
        "outputId": "18e76f95-fdef-41fc-d248-d3cf2c49582a"
      },
      "source": [
        "# Training model for all items \n",
        "\n",
        "for item in range(5):\n",
        "\n",
        "    print('-------', 'item', item, '-------')\n",
        "    \n",
        "    es = EarlyStopping(patience=5, verbose=1, min_delta=0.001, monitor='val_loss', mode='auto', restore_best_weights=True)\n",
        "\n",
        "    model = get_model()\n",
        "    model.fit([X_train_seq, X_train_lap, X_train_feat], y_train[:,item], epochs=100, batch_size=256, \n",
        "              validation_data=([X_valid_seq, X_valid_lap, X_valid_feat], y_valid[:,item]), callbacks=[es], verbose=2)\n",
        "\n",
        "    pred_valid_all[:,item] = model.predict([X_valid_seq, X_valid_lap, X_valid_feat]).ravel()\n",
        "    pred_test_all[:,item] = model.predict([X_test_seq, X_test_lap, X_test_feat]).ravel()\n",
        "\n",
        "\n",
        "pred_valid_all = scaler_seq.inverse_transform(pred_valid_all)\n",
        "reverse_valid = scaler_seq.inverse_transform(y_valid)\n",
        "pred_test_all = scaler_seq.inverse_transform(pred_test_all)\n",
        "reverse_test = scaler_seq.inverse_transform(y_test)\n",
        "\n",
        "\n",
        "\n",
        "\n",
        "\n",
        "# MAPE Test Data\n",
        "\n",
        "error = {}\n",
        "\n",
        "for item in range(5):\n",
        "    \n",
        "    error[item] = mean_absolute_percentage_error(reverse_test[:,item], pred_test_all[:,item])\n",
        "\n",
        "\n",
        "\n",
        "\n",
        "\n",
        "# Plot MAPE\n",
        "\n",
        "plt.figure(figsize=(14,5))\n",
        "plt.bar(range(5), error.values())\n",
        "plt.xticks(range(5), ['item_'+str(s) for s in range(5)])\n",
        "plt.ylabel('error')\n",
        "np.set_printoptions(False)"
      ],
      "execution_count": 19,
      "outputs": [
        {
          "output_type": "stream",
          "name": "stdout",
          "text": [
            "------- item 0 -------\n",
            "Epoch 1/100\n",
            "3/3 - 3s - loss: nan - mean_absolute_percentage_error: nan - val_loss: nan - val_mean_absolute_percentage_error: nan\n",
            "Epoch 2/100\n",
            "3/3 - 0s - loss: nan - mean_absolute_percentage_error: nan - val_loss: nan - val_mean_absolute_percentage_error: nan\n",
            "Epoch 3/100\n",
            "3/3 - 0s - loss: nan - mean_absolute_percentage_error: nan - val_loss: nan - val_mean_absolute_percentage_error: nan\n",
            "Epoch 4/100\n",
            "3/3 - 0s - loss: nan - mean_absolute_percentage_error: nan - val_loss: nan - val_mean_absolute_percentage_error: nan\n",
            "Epoch 5/100\n",
            "3/3 - 0s - loss: nan - mean_absolute_percentage_error: nan - val_loss: nan - val_mean_absolute_percentage_error: nan\n",
            "Restoring model weights from the end of the best epoch.\n",
            "Epoch 00005: early stopping\n",
            "------- item 1 -------\n",
            "Epoch 1/100\n",
            "3/3 - 59s - loss: nan - mean_absolute_percentage_error: nan - val_loss: nan - val_mean_absolute_percentage_error: nan\n",
            "Epoch 2/100\n",
            "3/3 - 0s - loss: nan - mean_absolute_percentage_error: nan - val_loss: nan - val_mean_absolute_percentage_error: nan\n",
            "Epoch 3/100\n",
            "3/3 - 0s - loss: nan - mean_absolute_percentage_error: nan - val_loss: nan - val_mean_absolute_percentage_error: nan\n",
            "Epoch 4/100\n",
            "3/3 - 0s - loss: nan - mean_absolute_percentage_error: nan - val_loss: nan - val_mean_absolute_percentage_error: nan\n",
            "Epoch 5/100\n",
            "3/3 - 0s - loss: nan - mean_absolute_percentage_error: nan - val_loss: nan - val_mean_absolute_percentage_error: nan\n",
            "Restoring model weights from the end of the best epoch.\n",
            "Epoch 00005: early stopping\n",
            "------- item 2 -------\n",
            "Epoch 1/100\n",
            "3/3 - 3s - loss: nan - mean_absolute_percentage_error: nan - val_loss: nan - val_mean_absolute_percentage_error: nan\n",
            "Epoch 2/100\n",
            "3/3 - 0s - loss: nan - mean_absolute_percentage_error: nan - val_loss: nan - val_mean_absolute_percentage_error: nan\n",
            "Epoch 3/100\n",
            "3/3 - 0s - loss: nan - mean_absolute_percentage_error: nan - val_loss: nan - val_mean_absolute_percentage_error: nan\n",
            "Epoch 4/100\n",
            "3/3 - 0s - loss: nan - mean_absolute_percentage_error: nan - val_loss: nan - val_mean_absolute_percentage_error: nan\n",
            "Epoch 5/100\n",
            "3/3 - 0s - loss: nan - mean_absolute_percentage_error: nan - val_loss: nan - val_mean_absolute_percentage_error: nan\n",
            "Restoring model weights from the end of the best epoch.\n",
            "Epoch 00005: early stopping\n",
            "------- item 3 -------\n",
            "Epoch 1/100\n",
            "3/3 - 3s - loss: nan - mean_absolute_percentage_error: nan - val_loss: nan - val_mean_absolute_percentage_error: nan\n",
            "Epoch 2/100\n",
            "3/3 - 0s - loss: nan - mean_absolute_percentage_error: nan - val_loss: nan - val_mean_absolute_percentage_error: nan\n",
            "Epoch 3/100\n",
            "3/3 - 0s - loss: nan - mean_absolute_percentage_error: nan - val_loss: nan - val_mean_absolute_percentage_error: nan\n",
            "Epoch 4/100\n",
            "3/3 - 0s - loss: nan - mean_absolute_percentage_error: nan - val_loss: nan - val_mean_absolute_percentage_error: nan\n",
            "Epoch 5/100\n",
            "3/3 - 0s - loss: nan - mean_absolute_percentage_error: nan - val_loss: nan - val_mean_absolute_percentage_error: nan\n",
            "Restoring model weights from the end of the best epoch.\n",
            "Epoch 00005: early stopping\n",
            "------- item 4 -------\n",
            "Epoch 1/100\n",
            "3/3 - 3s - loss: nan - mean_absolute_percentage_error: nan - val_loss: nan - val_mean_absolute_percentage_error: nan\n",
            "Epoch 2/100\n",
            "3/3 - 0s - loss: nan - mean_absolute_percentage_error: nan - val_loss: nan - val_mean_absolute_percentage_error: nan\n",
            "Epoch 3/100\n",
            "3/3 - 0s - loss: nan - mean_absolute_percentage_error: nan - val_loss: nan - val_mean_absolute_percentage_error: nan\n",
            "Epoch 4/100\n",
            "3/3 - 0s - loss: nan - mean_absolute_percentage_error: nan - val_loss: nan - val_mean_absolute_percentage_error: nan\n",
            "Epoch 5/100\n",
            "3/3 - 0s - loss: nan - mean_absolute_percentage_error: nan - val_loss: nan - val_mean_absolute_percentage_error: nan\n",
            "Restoring model weights from the end of the best epoch.\n",
            "Epoch 00005: early stopping\n"
          ]
        },
        {
          "output_type": "display_data",
          "data": {
            "image/png": "[encoded data removed]",
            "text/plain": [
              "<Figure size 1008x360 with 1 Axes>"
            ]
          },
          "metadata": {
            "needs_background": "light"
          }
        }
      ]
    },
    {
      "cell_type": "markdown",
      "metadata": {
        "id": "Qs4h3HW_Q7AN"
      },
      "source": [
        "#### Plotting Prediction"
      ]
    },
    {
      "cell_type": "code",
      "metadata": {
        "colab": {
          "base_uri": "https://localhost:8080/",
          "height": 350
        },
        "id": "lQpxR2MPPUAJ",
        "outputId": "e8a1d113-f34f-43c4-d620-736b9c1482b8"
      },
      "source": [
        "# Plot prediction\n",
        "\n",
        "def plot_predictions(y_true, y_pred, item):\n",
        "    \n",
        "    y_true = y_true.reshape(-1,5)\n",
        "    y_pred = y_pred.reshape(-1,5)\n",
        "    \n",
        "    plt.plot(y_true[:,item], label='true')\n",
        "    plt.plot(y_pred[:,item], label='prediction')\n",
        "    plt.title(f\"item: {item}\"); plt.legend()\n",
        "    plt.ylabel('sales'); plt.xlabel('date')\n",
        "\n",
        "\n",
        "\n",
        "\n",
        "plt.figure(figsize=(11,5))\n",
        "plot_predictions(reverse_test, pred_test_all, 4)"
      ],
      "execution_count": 24,
      "outputs": [
        {
          "output_type": "display_data",
          "data": {
            "image/png": "[encoded data removed]",
            "text/plain": [
              "<Figure size 792x360 with 1 Axes>"
            ]
          },
          "metadata": {
            "needs_background": "light"
          }
        }
      ]
    }
  ]
}